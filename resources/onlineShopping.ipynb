{
 "cells": [
  {
   "cell_type": "markdown",
   "metadata": {
    "cellId": "c2366c6a-18f2-4dda-95d9-a80b59612f29"
   },
   "source": [
    "## Анализ логов продуктового магазина"
   ]
  },
  {
   "cell_type": "markdown",
   "metadata": {
    "cellId": "e534da09-d249-4101-af31-2d3a7b264697"
   },
   "source": [
    "Представьте, что вы работаете аналитиком онлайн-магазина и ваша цель - повысить GMV (суммарную выручку от продажи товаров). Для этого вы хотите провести ряд исследований и придумать какие-то меры для увеличения выручки."
   ]
  },
  {
   "cell_type": "markdown",
   "metadata": {
    "cellId": "fcbf6fbf-2b56-4f42-a4fb-7811fa6a6f80"
   },
   "source": [
    "В файле <i>orders_with_items.json</i> представлена информация о заказах в онлайн-магазине.\n",
    "```\n",
    "OrderID - ID Заказа,\n",
    "UserID - ID клиента,\n",
    "OrderTime - время заказа,\n",
    "items - список элементов в заказе, каждый элемент описан словарем:\n",
    "    ItemID  - ID продукта, \n",
    "    price - цена единицы товара, \n",
    "    quantity - количество единиц товара в заказе\n",
    "```\n",
    "В файле <i>items_with_categ.csv</i> представлена информация о категории товаров.\n",
    "```\n",
    "ItemID - ID продукта,\n",
    "Category - категория продукта,\n",
    "ParentCategory - более крупная категория продукта\n",
    "```"
   ]
  },
  {
   "cell_type": "markdown",
   "metadata": {
    "cellId": "c309d005-3170-49f9-aaa2-47a572ce9d1a"
   },
   "source": [
    "1. Для начала поймем, какого числа было сделано больше всего заказов?\n",
    "2. Давайте посмотрим на категории товаров. Найдите топ-3 ParentCategory по GMV (суммарная выручка, которую принесла продажа товаров этой категории)?\n",
    "3. Представьте, что мы хотим запустить какую-то акцию для клиентов или предложить какую-то бонусную программу. Какую акцию было бы целесообразно провести и на каких клиентов её ориентировать? Составьте какой-то список клиентов, которым вы бы предложили участие в акции/программе.\n",
    "4. Представьте, что для повышения GMV мы хотим внедрить на сайте систему рекомендаций и предлагать пользователю какие-то товары по мере сбора корзины. Что бы вы порекомендовали пользователю X?"
   ]
  },
  {
   "cell_type": "markdown",
   "metadata": {
    "cellId": "ob6z27trywsm2yne4s9fvq"
   },
   "source": [
    "Если для решения задачи вам потребуются какие-то сторонние библиотеки, вы можете их установить. __[Документация по установке пакетов](https://cloud.yandex.ru/docs/datasphere/operations/projects/install-dependencies)__"
   ]
  },
  {
   "cell_type": "code",
   "execution_count": 3,
   "metadata": {
    "cellId": "o451uej02dbxv838otnfia"
   },
   "outputs": [],
   "source": [
    "import pandas as pd\n",
    "import numpy as np\n",
    "\n",
    "import matplotlib.pyplot as plt\n",
    "%matplotlib inline"
   ]
  },
  {
   "cell_type": "code",
   "execution_count": 39,
   "metadata": {
    "cellId": "1e2c2f81-5469-4476-ba2b-3b8af2264bf3"
   },
   "outputs": [
    {
     "data": {
      "text/html": [
       "<div>\n",
       "<style scoped>\n",
       "    .dataframe tbody tr th:only-of-type {\n",
       "        vertical-align: middle;\n",
       "    }\n",
       "\n",
       "    .dataframe tbody tr th {\n",
       "        vertical-align: top;\n",
       "    }\n",
       "\n",
       "    .dataframe thead th {\n",
       "        text-align: right;\n",
       "    }\n",
       "</style>\n",
       "<table border=\"1\" class=\"dataframe\">\n",
       "  <thead>\n",
       "    <tr style=\"text-align: right;\">\n",
       "      <th></th>\n",
       "      <th>ItemID</th>\n",
       "      <th>Category</th>\n",
       "      <th>ParentCategory</th>\n",
       "    </tr>\n",
       "  </thead>\n",
       "  <tbody>\n",
       "    <tr>\n",
       "      <th>0</th>\n",
       "      <td>1000002</td>\n",
       "      <td>Сладости для диабетиков</td>\n",
       "      <td>Сладости</td>\n",
       "    </tr>\n",
       "    <tr>\n",
       "      <th>1</th>\n",
       "      <td>1000046</td>\n",
       "      <td>Вода</td>\n",
       "      <td>Напитки</td>\n",
       "    </tr>\n",
       "    <tr>\n",
       "      <th>2</th>\n",
       "      <td>1000048</td>\n",
       "      <td>Сладости для диабетиков</td>\n",
       "      <td>Сладости</td>\n",
       "    </tr>\n",
       "    <tr>\n",
       "      <th>3</th>\n",
       "      <td>1000049</td>\n",
       "      <td>Вода</td>\n",
       "      <td>Напитки</td>\n",
       "    </tr>\n",
       "    <tr>\n",
       "      <th>4</th>\n",
       "      <td>1000061</td>\n",
       "      <td>Фрукты</td>\n",
       "      <td>Овощи и фрукты</td>\n",
       "    </tr>\n",
       "  </tbody>\n",
       "</table>\n",
       "</div>"
      ],
      "text/plain": [
       "    ItemID                 Category  ParentCategory\n",
       "0  1000002  Сладости для диабетиков        Сладости\n",
       "1  1000046                     Вода         Напитки\n",
       "2  1000048  Сладости для диабетиков        Сладости\n",
       "3  1000049                     Вода         Напитки\n",
       "4  1000061                   Фрукты  Овощи и фрукты"
      ]
     },
     "execution_count": 39,
     "metadata": {},
     "output_type": "execute_result"
    }
   ],
   "source": [
    "df_cat = pd.read_csv(\"items_with_categ.csv\")\n",
    "df_cat.head()"
   ]
  },
  {
   "cell_type": "code",
   "execution_count": 5,
   "metadata": {
    "cellId": "e21b5a63-7a9e-46f0-b0bb-560c950ad4fc"
   },
   "outputs": [],
   "source": [
    "import json\n",
    "with open('orders_with_items.json') as jf:\n",
    "    data_js = json.load(jf)"
   ]
  },
  {
   "cell_type": "code",
   "execution_count": 12,
   "metadata": {
    "cellId": "jc9pznzobum0s6dlrebtb"
   },
   "outputs": [
    {
     "data": {
      "text/html": [
       "<div>\n",
       "<style scoped>\n",
       "    .dataframe tbody tr th:only-of-type {\n",
       "        vertical-align: middle;\n",
       "    }\n",
       "\n",
       "    .dataframe tbody tr th {\n",
       "        vertical-align: top;\n",
       "    }\n",
       "\n",
       "    .dataframe thead th {\n",
       "        text-align: right;\n",
       "    }\n",
       "</style>\n",
       "<table border=\"1\" class=\"dataframe\">\n",
       "  <thead>\n",
       "    <tr style=\"text-align: right;\">\n",
       "      <th></th>\n",
       "      <th>OrderID</th>\n",
       "      <th>UserID</th>\n",
       "      <th>OrderTime</th>\n",
       "      <th>items</th>\n",
       "    </tr>\n",
       "  </thead>\n",
       "  <tbody>\n",
       "    <tr>\n",
       "      <th>0</th>\n",
       "      <td>90659865</td>\n",
       "      <td>1609459696627452541</td>\n",
       "      <td>2021-01-01 03:51:42</td>\n",
       "      <td>[{'ItemID': '413736', 'price': 36.72, 'quantit...</td>\n",
       "    </tr>\n",
       "    <tr>\n",
       "      <th>1</th>\n",
       "      <td>90622054</td>\n",
       "      <td>2499292651609021773</td>\n",
       "      <td>2021-01-01 04:13:13</td>\n",
       "      <td>[{'ItemID': '961454', 'price': 179.9, 'quantit...</td>\n",
       "    </tr>\n",
       "    <tr>\n",
       "      <th>2</th>\n",
       "      <td>90659952</td>\n",
       "      <td>394586611473861433</td>\n",
       "      <td>2021-01-01 05:48:53</td>\n",
       "      <td>[{'ItemID': '306553', 'price': 101.9, 'quantit...</td>\n",
       "    </tr>\n",
       "    <tr>\n",
       "      <th>3</th>\n",
       "      <td>89765281</td>\n",
       "      <td>5412764681526420705</td>\n",
       "      <td>2021-01-01 08:33:41</td>\n",
       "      <td>[{'ItemID': '979703', 'price': 99.9, 'quantity...</td>\n",
       "    </tr>\n",
       "    <tr>\n",
       "      <th>4</th>\n",
       "      <td>90582308</td>\n",
       "      <td>6380060821544787608</td>\n",
       "      <td>2021-01-01 09:55:35</td>\n",
       "      <td>[{'ItemID': '303765', 'price': 44.9, 'quantity...</td>\n",
       "    </tr>\n",
       "  </tbody>\n",
       "</table>\n",
       "</div>"
      ],
      "text/plain": [
       "    OrderID               UserID            OrderTime  \\\n",
       "0  90659865  1609459696627452541  2021-01-01 03:51:42   \n",
       "1  90622054  2499292651609021773  2021-01-01 04:13:13   \n",
       "2  90659952   394586611473861433  2021-01-01 05:48:53   \n",
       "3  89765281  5412764681526420705  2021-01-01 08:33:41   \n",
       "4  90582308  6380060821544787608  2021-01-01 09:55:35   \n",
       "\n",
       "                                               items  \n",
       "0  [{'ItemID': '413736', 'price': 36.72, 'quantit...  \n",
       "1  [{'ItemID': '961454', 'price': 179.9, 'quantit...  \n",
       "2  [{'ItemID': '306553', 'price': 101.9, 'quantit...  \n",
       "3  [{'ItemID': '979703', 'price': 99.9, 'quantity...  \n",
       "4  [{'ItemID': '303765', 'price': 44.9, 'quantity...  "
      ]
     },
     "execution_count": 12,
     "metadata": {},
     "output_type": "execute_result"
    }
   ],
   "source": [
    "df = pd.DataFrame(data_js)\n",
    "df.head()"
   ]
  },
  {
   "cell_type": "code",
   "execution_count": 15,
   "metadata": {
    "cellId": "uppo5icjdqiveettsbfwb9"
   },
   "outputs": [
    {
     "data": {
      "text/plain": [
       "[{'ItemID': '413736', 'price': 36.72, 'quantity': 2},\n",
       " {'ItemID': '523171', 'price': 90.32, 'quantity': 1},\n",
       " {'ItemID': '452831', 'price': 223.11, 'quantity': 1}]"
      ]
     },
     "execution_count": 15,
     "metadata": {},
     "output_type": "execute_result"
    }
   ],
   "source": [
    "df['items'][0][:3]"
   ]
  },
  {
   "cell_type": "code",
   "execution_count": 16,
   "metadata": {
    "cellId": "8khj4bent2s93vegn3dph7"
   },
   "outputs": [
    {
     "name": "stdout",
     "output_type": "stream",
     "text": [
      "<class 'pandas.core.frame.DataFrame'>\n",
      "RangeIndex: 40375 entries, 0 to 40374\n",
      "Data columns (total 4 columns):\n",
      "OrderID      40375 non-null object\n",
      "UserID       40375 non-null object\n",
      "OrderTime    40375 non-null object\n",
      "items        40375 non-null object\n",
      "dtypes: object(4)\n",
      "memory usage: 1.2+ MB\n"
     ]
    }
   ],
   "source": [
    "df.info()"
   ]
  },
  {
   "cell_type": "code",
   "execution_count": 20,
   "metadata": {
    "cellId": "18fvagdh2uselnwf963i3"
   },
   "outputs": [],
   "source": [
    "df['date'] = pd.to_datetime(df.OrderTime).dt.date"
   ]
  },
  {
   "cell_type": "code",
   "execution_count": 27,
   "metadata": {
    "cellId": "wcahiyy5ir9cyhg81j813v"
   },
   "outputs": [
    {
     "data": {
      "text/plain": [
       "342"
      ]
     },
     "execution_count": 27,
     "metadata": {},
     "output_type": "execute_result"
    }
   ],
   "source": [
    "df.groupby('date')['OrderID'].count().sort_values()[::-1][0]"
   ]
  },
  {
   "cell_type": "code",
   "execution_count": 28,
   "metadata": {
    "cellId": "yehoquqhswr1cpp0bq1ps"
   },
   "outputs": [
    {
     "data": {
      "text/html": [
       "<div>\n",
       "<style scoped>\n",
       "    .dataframe tbody tr th:only-of-type {\n",
       "        vertical-align: middle;\n",
       "    }\n",
       "\n",
       "    .dataframe tbody tr th {\n",
       "        vertical-align: top;\n",
       "    }\n",
       "\n",
       "    .dataframe thead th {\n",
       "        text-align: right;\n",
       "    }\n",
       "</style>\n",
       "<table border=\"1\" class=\"dataframe\">\n",
       "  <thead>\n",
       "    <tr style=\"text-align: right;\">\n",
       "      <th></th>\n",
       "      <th>OrderID</th>\n",
       "      <th>UserID</th>\n",
       "      <th>OrderTime</th>\n",
       "      <th>items</th>\n",
       "      <th>date</th>\n",
       "    </tr>\n",
       "  </thead>\n",
       "  <tbody>\n",
       "    <tr>\n",
       "      <th>0</th>\n",
       "      <td>90659865</td>\n",
       "      <td>1609459696627452541</td>\n",
       "      <td>2021-01-01 03:51:42</td>\n",
       "      <td>[{'ItemID': '413736', 'price': 36.72, 'quantit...</td>\n",
       "      <td>2021-01-01</td>\n",
       "    </tr>\n",
       "    <tr>\n",
       "      <th>1</th>\n",
       "      <td>90622054</td>\n",
       "      <td>2499292651609021773</td>\n",
       "      <td>2021-01-01 04:13:13</td>\n",
       "      <td>[{'ItemID': '961454', 'price': 179.9, 'quantit...</td>\n",
       "      <td>2021-01-01</td>\n",
       "    </tr>\n",
       "    <tr>\n",
       "      <th>2</th>\n",
       "      <td>90659952</td>\n",
       "      <td>394586611473861433</td>\n",
       "      <td>2021-01-01 05:48:53</td>\n",
       "      <td>[{'ItemID': '306553', 'price': 101.9, 'quantit...</td>\n",
       "      <td>2021-01-01</td>\n",
       "    </tr>\n",
       "    <tr>\n",
       "      <th>3</th>\n",
       "      <td>89765281</td>\n",
       "      <td>5412764681526420705</td>\n",
       "      <td>2021-01-01 08:33:41</td>\n",
       "      <td>[{'ItemID': '979703', 'price': 99.9, 'quantity...</td>\n",
       "      <td>2021-01-01</td>\n",
       "    </tr>\n",
       "    <tr>\n",
       "      <th>4</th>\n",
       "      <td>90582308</td>\n",
       "      <td>6380060821544787608</td>\n",
       "      <td>2021-01-01 09:55:35</td>\n",
       "      <td>[{'ItemID': '303765', 'price': 44.9, 'quantity...</td>\n",
       "      <td>2021-01-01</td>\n",
       "    </tr>\n",
       "  </tbody>\n",
       "</table>\n",
       "</div>"
      ],
      "text/plain": [
       "    OrderID               UserID            OrderTime  \\\n",
       "0  90659865  1609459696627452541  2021-01-01 03:51:42   \n",
       "1  90622054  2499292651609021773  2021-01-01 04:13:13   \n",
       "2  90659952   394586611473861433  2021-01-01 05:48:53   \n",
       "3  89765281  5412764681526420705  2021-01-01 08:33:41   \n",
       "4  90582308  6380060821544787608  2021-01-01 09:55:35   \n",
       "\n",
       "                                               items        date  \n",
       "0  [{'ItemID': '413736', 'price': 36.72, 'quantit...  2021-01-01  \n",
       "1  [{'ItemID': '961454', 'price': 179.9, 'quantit...  2021-01-01  \n",
       "2  [{'ItemID': '306553', 'price': 101.9, 'quantit...  2021-01-01  \n",
       "3  [{'ItemID': '979703', 'price': 99.9, 'quantity...  2021-01-01  \n",
       "4  [{'ItemID': '303765', 'price': 44.9, 'quantity...  2021-01-01  "
      ]
     },
     "execution_count": 28,
     "metadata": {},
     "output_type": "execute_result"
    }
   ],
   "source": [
    "df.head()"
   ]
  },
  {
   "cell_type": "code",
   "execution_count": 33,
   "metadata": {
    "cellId": "054lk0xjx5gleqko6068tue"
   },
   "outputs": [
    {
     "data": {
      "text/plain": [
       "dict"
      ]
     },
     "execution_count": 33,
     "metadata": {},
     "output_type": "execute_result"
    }
   ],
   "source": [
    "type(df['items'][0][0])"
   ]
  },
  {
   "cell_type": "code",
   "execution_count": 47,
   "metadata": {
    "cellId": "blu6utqv3hpi0c56gf6gsp"
   },
   "outputs": [],
   "source": [
    "def item_collector(items):\n",
    "    items_single = []\n",
    "    for item in items:\n",
    "        items_single.append(item['ItemID'])\n",
    "    return items_single\n",
    "\n",
    "df['items_list'] = df['items'].apply(item_collector)"
   ]
  },
  {
   "cell_type": "code",
   "execution_count": null,
   "metadata": {
    "cellId": "m6e4muonx6jnixdk28ol6"
   },
   "outputs": [],
   "source": []
  },
  {
   "cell_type": "code",
   "execution_count": 57,
   "metadata": {
    "cellId": "u1w04sq2m8r6tpvlon4aan"
   },
   "outputs": [],
   "source": [
    "cat_map = {k:v for k,v in zip(df_cat['ItemID'],df_cat['Category'])}"
   ]
  },
  {
   "cell_type": "code",
   "execution_count": 50,
   "metadata": {
    "cellId": "fn1s5osztn4fb2rfxl0wy7"
   },
   "outputs": [],
   "source": [
    "items_id = []\n",
    "for values in df['items_list']:\n",
    "    items_id.extend(values)"
   ]
  },
  {
   "cell_type": "code",
   "execution_count": 54,
   "metadata": {
    "cellId": "4nvsz5gv5rwdje1wa6gh17"
   },
   "outputs": [
    {
     "data": {
      "text/plain": [
       "['413736', '523171', '452831']"
      ]
     },
     "execution_count": 54,
     "metadata": {},
     "output_type": "execute_result"
    }
   ],
   "source": [
    "items_id[:3]"
   ]
  },
  {
   "cell_type": "code",
   "execution_count": 53,
   "metadata": {
    "cellId": "kjwejgthc8of31v40mne2"
   },
   "outputs": [
    {
     "data": {
      "text/plain": [
       "[('303744', 6086), ('430560', 5068), ('305660', 3792)]"
      ]
     },
     "execution_count": 53,
     "metadata": {},
     "output_type": "execute_result"
    }
   ],
   "source": [
    "from collections import Counter\n",
    "Counter(items_id).most_common(3)"
   ]
  },
  {
   "cell_type": "code",
   "execution_count": 59,
   "metadata": {
    "cellId": "9eo72gwzifu7fktdfh23"
   },
   "outputs": [
    {
     "data": {
      "text/plain": [
       "('Овощи', 'Фрукты', 'Сахар')"
      ]
     },
     "execution_count": 59,
     "metadata": {},
     "output_type": "execute_result"
    }
   ],
   "source": [
    "cat_map[303744],cat_map[430560], cat_map[305660]"
   ]
  },
  {
   "cell_type": "code",
   "execution_count": 109,
   "metadata": {
    "cellId": "ewz0kfs0nxewp5t0whebo"
   },
   "outputs": [],
   "source": [
    "# df['items']"
   ]
  },
  {
   "cell_type": "code",
   "execution_count": 114,
   "metadata": {
    "cellId": "g8z72oiusq67pbfym6kji"
   },
   "outputs": [],
   "source": [
    "items = {}\n",
    "for item in df['items']:\n",
    "    for i in item:\n",
    "        id_ = i['ItemID']\n",
    "        if id_ in items:\n",
    "            items[id_] += i['price']\n",
    "        else:\n",
    "            items[id_] = i['price']  \n"
   ]
  },
  {
   "cell_type": "code",
   "execution_count": 91,
   "metadata": {
    "cellId": "0idpo6wfa8frlkrmav64vfk"
   },
   "outputs": [
    {
     "data": {
      "text/plain": [
       "[(1000002, 'Сладости для диабетиков'), (1000046, 'Вода')]"
      ]
     },
     "execution_count": 91,
     "metadata": {},
     "output_type": "execute_result"
    }
   ],
   "source": [
    "list(cat_map.items())[:2]"
   ]
  },
  {
   "cell_type": "code",
   "execution_count": 93,
   "metadata": {
    "cellId": "154ukayt3oxjepldv72v7rl"
   },
   "outputs": [],
   "source": [
    "count_cats = {}\n",
    "for id_, price in items.items():\n",
    "    if cat_map[int(id_)] not in count_cats:\n",
    "        count_cats[cat_map[int(id_)]] = price\n",
    "    else:\n",
    "        count_cats[cat_map[int(id_)]] += price"
   ]
  },
  {
   "cell_type": "code",
   "execution_count": 96,
   "metadata": {
    "cellId": "u1xtpbev1l0rg7mvn4jbjp"
   },
   "outputs": [],
   "source": [
    "cat_map_p = {k:v for k,v in zip(df_cat['ItemID'],df_cat['ParentCategory'])}"
   ]
  },
  {
   "cell_type": "code",
   "execution_count": 105,
   "metadata": {
    "cellId": "pqe3pi2qyhovvff02uv76i"
   },
   "outputs": [
    {
     "data": {
      "text/plain": [
       "['413736', '523171', '452831']"
      ]
     },
     "execution_count": 105,
     "metadata": {},
     "output_type": "execute_result"
    }
   ],
   "source": [
    "list(items)[:3]"
   ]
  },
  {
   "cell_type": "code",
   "execution_count": 117,
   "metadata": {
    "cellId": "g1u732yix85rro9n2nfskt"
   },
   "outputs": [],
   "source": [
    "count_cats_p = {}\n",
    "for id_, price in items.items():\n",
    "#     print(cat_map_p[int(id_)])\n",
    "    if cat_map_p[int(id_)] not in count_cats_p:\n",
    "        count_cats_p[cat_map_p[int(id_)]] = price\n",
    "    else:\n",
    "        count_cats_p[cat_map_p[int(id_)]] += price"
   ]
  },
  {
   "cell_type": "code",
   "execution_count": 118,
   "metadata": {
    "cellId": "ebue099bwppaff5w1gfdnu"
   },
   "outputs": [
    {
     "data": {
      "text/plain": [
       "{'Мясо, птица, рыба': 25027932.55999977,\n",
       " 'Овощи и фрукты': 20471893.579999816,\n",
       " 'Бакалея': 17280428.949999828,\n",
       " 'Молочная продукция': 15046480.350000117,\n",
       " 'Напитки': 7158028.930000112,\n",
       " 'Красота, гигиена, здоровье': 6075844.6900002295,\n",
       " 'Бытовая химия': 5602939.980000075,\n",
       " 'Мучные изделия': 5209598.220000051,\n",
       " 'Сладости': 3682739.8999999724,\n",
       " 'Зоотовары': 2180066.7499999776,\n",
       " 'Для детей': 1227599.399999999,\n",
       " 'Для дома и сада': 1145950.5500000017,\n",
       " 'Кухонные принадлежности': 920908.9700000039,\n",
       " 'Для праздника': 236968.48999999987,\n",
       " 'Текстиль': 132118.37999999977,\n",
       " 'Системы нагревания': 125732.0,\n",
       " 'Для школы': 17424.45999999999}"
      ]
     },
     "execution_count": 118,
     "metadata": {},
     "output_type": "execute_result"
    }
   ],
   "source": [
    "{k: v for k, v in sorted(count_cats_p.items(), key=lambda item: item[1],reverse=True)}"
   ]
  },
  {
   "cell_type": "code",
   "execution_count": 99,
   "metadata": {
    "cellId": "4how25sul3fp5f1x1b9ow"
   },
   "outputs": [
    {
     "data": {
      "text/plain": [
       "['Сухие корма', 'Кофе', 'Сыры']"
      ]
     },
     "execution_count": 99,
     "metadata": {},
     "output_type": "execute_result"
    }
   ],
   "source": [
    "list({k: v for k, v in sorted(count_cats.items(), key=lambda item: item[1],reverse=True)})[:3]"
   ]
  },
  {
   "cell_type": "code",
   "execution_count": 101,
   "metadata": {
    "cellId": "sgajck8hjn8u6t8u477rzr"
   },
   "outputs": [
    {
     "data": {
      "text/plain": [
       "array(['Сладости', 'Напитки', 'Овощи и фрукты',\n",
       "       'Красота, гигиена, здоровье', 'Для праздника',\n",
       "       'Кухонные принадлежности', 'Бакалея', 'Молочная продукция',\n",
       "       'Мясо, птица, рыба', 'Мучные изделия', 'Зоотовары',\n",
       "       'Для дома и сада', 'Бытовая химия', 'Для детей',\n",
       "       'Системы нагревания', 'Текстиль', 'Для школы'], dtype=object)"
      ]
     },
     "execution_count": 101,
     "metadata": {},
     "output_type": "execute_result"
    }
   ],
   "source": [
    "df_cat['ParentCategory'].unique()"
   ]
  },
  {
   "cell_type": "code",
   "execution_count": null,
   "metadata": {
    "cellId": "jjgo1idnhw0cw8q7a4m2v"
   },
   "outputs": [],
   "source": []
  },
  {
   "cell_type": "code",
   "execution_count": null,
   "metadata": {
    "cellId": "kfdzv39evll8xo19z117hs"
   },
   "outputs": [],
   "source": []
  },
  {
   "cell_type": "code",
   "execution_count": null,
   "metadata": {
    "cellId": "nj8cy64o0s9d41lsxv0b99"
   },
   "outputs": [],
   "source": []
  }
 ],
 "metadata": {
  "language_info": {
   "codemirror_mode": {
    "name": "ipython",
    "version": 3
   },
   "file_extension": ".py",
   "mimetype": "text/x-python",
   "name": "python",
   "nbconvert_exporter": "python",
   "pygments_lexer": "ipython3",
   "version": "3.7.7"
  },
  "notebookId": "e73e2496-374c-470d-91db-240a39c30c02",
  "notebookPath": "onlineShopping.ipynb"
 },
 "nbformat": 4,
 "nbformat_minor": 4
}
